{
 "metadata": {
  "name": "",
  "signature": "sha256:ceef4e2d4a370df7e670eac744d1742682939ebbce58cb223f1f40c6a1292175"
 },
 "nbformat": 3,
 "nbformat_minor": 0,
 "worksheets": [
  {
   "cells": [
    {
     "cell_type": "code",
     "collapsed": false,
     "input": [
      "import pandas as pd\n",
      "import numpy as np\n",
      "from glob import glob"
     ],
     "language": "python",
     "metadata": {},
     "outputs": [],
     "prompt_number": 21
    },
    {
     "cell_type": "code",
     "collapsed": false,
     "input": [
      "%matplotlib inline"
     ],
     "language": "python",
     "metadata": {},
     "outputs": [],
     "prompt_number": 22
    },
    {
     "cell_type": "code",
     "collapsed": false,
     "input": [
      "import matplotlib.pyplot as plt"
     ],
     "language": "python",
     "metadata": {},
     "outputs": [],
     "prompt_number": 23
    },
    {
     "cell_type": "code",
     "collapsed": false,
     "input": [
      "cd /home/zonca/Paesani/OpenMM/i-pi-dev/examples/pylj/paratemp"
     ],
     "language": "python",
     "metadata": {},
     "outputs": [
      {
       "output_type": "stream",
       "stream": "stdout",
       "text": [
        "/home/zonca/Paesani/OpenMM/i-pi-dev/examples/pylj/paratemp\n"
       ]
      }
     ],
     "prompt_number": 4
    },
    {
     "cell_type": "code",
     "collapsed": false,
     "input": [
      "ls -lah *out"
     ],
     "language": "python",
     "metadata": {},
     "outputs": [
      {
       "output_type": "stream",
       "stream": "stdout",
       "text": [
        "-rw-r--r-- 1 zonca zonca  17K Aug 18 11:51 ID_mbpol_16.out\r\n",
        "-rw-r--r-- 1 zonca zonca  80K Aug 18 11:52 ID_mbpol_2.out\r\n",
        "-rw-r--r-- 1 zonca zonca 3.9K Aug 18 11:51 ID_mbpol_64.out\r\n",
        "-rw-r--r-- 1 zonca zonca  24K Aug 18 11:52 ID_mbpol_8.out\r\n",
        "-rw-r--r-- 1 zonca zonca 1.3M Aug 15 15:39 ID_mbpol_noheader.out\r\n",
        "-rw-r--r-- 1 zonca zonca 1.3M Aug 15 14:29 ID_mbpol.out\r\n",
        "-rw-r--r-- 1 zonca zonca 1.3M Aug 15 15:35 ID_ph2_noheader.out\r\n",
        "-rw-r--r-- 1 zonca zonca 1.3M Aug 15 15:34 ID_ph2.out\r\n"
       ]
      }
     ],
     "prompt_number": 16
    },
    {
     "cell_type": "code",
     "collapsed": false,
     "input": [
      "names = [\"step\",\"time\", \"energy\", \"temperature\", \"kinetic\", \"potential\", \"ensemble_temperature\"]"
     ],
     "language": "python",
     "metadata": {},
     "outputs": [],
     "prompt_number": 8
    },
    {
     "cell_type": "code",
     "collapsed": false,
     "input": [
      "data = {}\n",
      "for f in glob(\"ID_mbpol_*.out\"):\n",
      "    data[int(f.split(\".\")[0].split(\"_\")[2])] = pd.read_csv(f, delim_whitespace=True, \n",
      "           names=names, comment=\"#\").dropna().set_index(\"step\")"
     ],
     "language": "python",
     "metadata": {},
     "outputs": [],
     "prompt_number": 25
    },
    {
     "cell_type": "code",
     "collapsed": false,
     "input": [
      "mean_col = {}\n",
      "col = \"kinetic\"\n",
      "for k,v in data.iteritems():\n",
      "        mean_col[k] = v[col].mean()/k**2"
     ],
     "language": "python",
     "metadata": {},
     "outputs": [],
     "prompt_number": 28
    },
    {
     "cell_type": "code",
     "collapsed": false,
     "input": [
      "pd.Series(mean_col).plot(marker=\"s\")"
     ],
     "language": "python",
     "metadata": {},
     "outputs": [
      {
       "metadata": {},
       "output_type": "pyout",
       "prompt_number": 31,
       "text": [
        "<matplotlib.axes.AxesSubplot at 0x7fd2e1f611d0>"
       ]
      },
      {
       "metadata": {},
       "output_type": "display_data",
       "png": "[encoded data removed]",
       "text": [
        "<matplotlib.figure.Figure at 0x7fd2df8cdf50>"
       ]
      }
     ],
     "prompt_number": 31
    },
    {
     "cell_type": "code",
     "collapsed": false,
     "input": [],
     "language": "python",
     "metadata": {},
     "outputs": []
    }
   ],
   "metadata": {}
  }
 ]
}