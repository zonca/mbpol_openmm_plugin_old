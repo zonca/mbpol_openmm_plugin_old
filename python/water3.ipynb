{
 "metadata": {
  "name": "",
  "signature": "sha256:90914c363ac543c31c25439cfe37211ebd026c599a85df426b09f75435111fff"
 },
 "nbformat": 3,
 "nbformat_minor": 0,
 "worksheets": [
  {
   "cells": [
    {
     "cell_type": "code",
     "collapsed": false,
     "input": [
      "from __future__ import print_function"
     ],
     "language": "python",
     "metadata": {},
     "outputs": [],
     "prompt_number": 1
    },
    {
     "cell_type": "code",
     "collapsed": false,
     "input": [
      "from simtk.openmm import app\n",
      "import simtk.openmm as mm\n",
      "from simtk import unit\n",
      "import sys\n",
      "import mbpol"
     ],
     "language": "python",
     "metadata": {},
     "outputs": [],
     "prompt_number": 1
    },
    {
     "cell_type": "heading",
     "level": 4,
     "metadata": {},
     "source": [
      "Input system in pdb format"
     ]
    },
    {
     "cell_type": "code",
     "collapsed": false,
     "input": [
      "pdb = app.PDBFile(\"water3.pdb\")"
     ],
     "language": "python",
     "metadata": {},
     "outputs": [],
     "prompt_number": 2
    },
    {
     "cell_type": "heading",
     "level": 4,
     "metadata": {},
     "source": [
      "Define the type of potential, first file defines all elements, only the water model is in the second xml file"
     ]
    },
    {
     "cell_type": "code",
     "collapsed": false,
     "input": [
      "#forcefield = app.ForceField(\"mbpol.xml\")\n",
      "# use tip4p\n",
      "forcefield = app.ForceField(\"qtip4pf.xml\")"
     ],
     "language": "python",
     "metadata": {},
     "outputs": [],
     "prompt_number": 3
    },
    {
     "cell_type": "heading",
     "level": 4,
     "metadata": {},
     "source": [
      "Create the System, define an integrator, define the Simulation"
     ]
    },
    {
     "cell_type": "code",
     "collapsed": false,
     "input": [
      "system = forcefield.createSystem(pdb.topology, nonbondedMethod=app.CutoffNonPeriodic, nonBondedCutoff=1e3*unit.nanometer)\n",
      "integrator = mm.VerletIntegrator(0.00001*unit.femtoseconds)"
     ],
     "language": "python",
     "metadata": {},
     "outputs": [],
     "prompt_number": 4
    },
    {
     "cell_type": "code",
     "collapsed": false,
     "input": [
      "%pylab inline"
     ],
     "language": "python",
     "metadata": {},
     "outputs": [
      {
       "output_type": "stream",
       "stream": "stdout",
       "text": [
        "Populating the interactive namespace from numpy and matplotlib\n"
       ]
      },
      {
       "output_type": "stream",
       "stream": "stderr",
       "text": [
        "/home/zonca/anaconda/lib/python2.7/site-packages/matplotlib/__init__.py:740: UserWarning: Found matplotlib configuration in ~/.matplotlib/. To conform with the XDG base directory standard, this configuration location has been deprecated on Linux, and the new location is now '/home/zonca/.config'/matplotlib/. Please move your configuration there to ensure that matplotlib will continue to find it in the future.\n",
        "  _get_xdg_config_dir())\n"
       ]
      }
     ],
     "prompt_number": 5
    },
    {
     "cell_type": "code",
     "collapsed": false,
     "input": [
      "platform = mm.Platform.getPlatformByName('Reference')\n",
      "simulation = app.Simulation(pdb.topology, system, integrator, platform)\n",
      "simulation.context.setPositions(pdb.positions)\n",
      "simulation.context.computeVirtualSites()"
     ],
     "language": "python",
     "metadata": {},
     "outputs": [],
     "prompt_number": 6
    },
    {
     "cell_type": "heading",
     "level": 4,
     "metadata": {},
     "source": [
      "Compute initial energy and forces with getState"
     ]
    },
    {
     "cell_type": "code",
     "collapsed": false,
     "input": [
      "state = simulation.context.getState(getForces=True, getEnergy=True, getPositions=True)\n",
      "potential_energy = state.getPotentialEnergy()\n",
      "potential_energy#.in_units_of(unit.kilocalorie_per_mole)"
     ],
     "language": "python",
     "metadata": {},
     "outputs": [
      {
       "metadata": {},
       "output_type": "pyout",
       "prompt_number": 10,
       "text": [
        "Quantity(value=-46.086704964327765, unit=kilojoule/mole)"
       ]
      }
     ],
     "prompt_number": 10
    },
    {
     "cell_type": "code",
     "collapsed": false,
     "input": [
      "state.getPositions()"
     ],
     "language": "python",
     "metadata": {},
     "outputs": [
      {
       "metadata": {},
       "output_type": "pyout",
       "prompt_number": 8,
       "text": [
        "Quantity(value=[(-0.1516, -0.020200000000000003, 0.14550000000000002), (-0.062200000000000005, -0.0601, 0.1572), (-0.20179999999999998, -0.0419, 0.22400000000000003), (-0.146427952, -0.028327504000000003, 0.15740098800000002), (-0.1763, -0.0381, -0.13), (-0.19030000000000002, -0.049300000000000004, -0.034499999999999996), (-0.25270000000000004, -0.0761, -0.1733), (-0.188227376, -0.044591448, -0.123112732), (-0.055900000000000005, 0.20070000000000002, -0.013900000000000003), (-0.0941, 0.15410000000000001, 0.0616), (-0.0985, 0.1567, -0.0883), (-0.066560752, 0.188746236, -0.013754866000000003)], unit=nanometer)"
       ]
      }
     ],
     "prompt_number": 8
    },
    {
     "cell_type": "code",
     "collapsed": false,
     "input": [
      "kilocalorie_per_mole_per_angstrom = unit.kilocalorie_per_mole/unit.angstrom\n",
      "for f in state.getForces():\n",
      "    print(f.in_units_of(kilocalorie_per_mole_per_angstrom))"
     ],
     "language": "python",
     "metadata": {},
     "outputs": [
      {
       "output_type": "stream",
       "stream": "stdout",
       "text": [
        "(25.629807276342042, -19.690158940799716, 17.116150830819414) kcal/(A mol)\n",
        "(-34.450961073067994, 16.028149479695195, -4.558083525214177) kcal/(A mol)\n",
        "(7.503694637210406, 3.084799713838555, -9.700299181569491) kcal/(A mol)\n",
        "(-8.264960561086328, 9.467922558733804, -24.095806389462588) kcal/(A mol)\n",
        "(-18.914134522688236, -8.9854693903381, 2.489102555110543) kcal/(A mol)\n",
        "(5.529832086094418, 4.76705682098212, -14.047876266862886) kcal/(A mol)\n",
        "(13.436145684010906, 6.523858443918341, 8.367251978069945) kcal/(A mol)\n",
        "(3.9542747151616795, 9.399436813509622, -10.599018836782465) kcal/(A mol)\n",
        "(-10.795191452046357, -4.852822888525169, 3.6792153412244586) kcal/(A mol)\n",
        "(5.237785160727776, 3.671450571852875, -19.56510640528328) kcal/(A mol)\n",
        "(6.823022203417037, -0.5468638106240955, 16.219644673705456) kcal/(A mol)\n",
        "(8.536011420513137, 13.45058375080022, 3.950689971176969) kcal/(A mol)\n"
       ]
      }
     ],
     "prompt_number": 9
    },
    {
     "cell_type": "code",
     "collapsed": false,
     "input": [
      "kilocalorie_per_mole_per_angstrom = unit.kilocalorie_per_mole/unit.angstrom\n",
      "for f in state.getForces():\n",
      "    print(f)"
     ],
     "language": "python",
     "metadata": {},
     "outputs": [
      {
       "output_type": "stream",
       "stream": "stdout",
       "text": [
        "(1072.351136442151, -823.8362500830601, 716.1397507614844) kJ/(nm mol)\n",
        "(-1441.4282112971648, 670.617774230447, -190.71021469496117) kJ/(nm mol)\n",
        "(313.9545836208834, 129.06802002700513, -405.8605177568675) kJ/(nm mol)\n",
        "(-345.805949875852, 396.1378798574224, -1008.1685393351147) kJ/(nm mol)\n",
        "(-791.3673884292758, -375.9520392917461, 104.14405090582511) kJ/(nm mol)\n",
        "(231.36817448219043, 199.4536573898919, -587.7631430055432) kJ/(nm mol)\n",
        "(562.1683354190163, 272.9582372935434, 350.08582276244647) kJ/(nm mol)\n",
        "(165.44685408236467, 393.2724362772426, -443.46294813097836) kJ/(nm mol)\n",
        "(-451.6708103536196, -203.04210965589306, 153.93836987683136) kJ/(nm mol)\n",
        "(219.14893112485015, 153.6134919263243, -818.6040519970525) kJ/(nm mol)\n",
        "(285.47524899096885, -22.880781836512156, 678.6299331478364) kJ/(nm mol)\n",
        "(357.1467178342697, 562.7724241334812, 165.2968683940444) kJ/(nm mol)\n"
       ]
      }
     ],
     "prompt_number": 11
    },
    {
     "cell_type": "code",
     "collapsed": false,
     "input": [
      "state.getForces()._value"
     ],
     "language": "python",
     "metadata": {},
     "outputs": [
      {
       "metadata": {},
       "output_type": "pyout",
       "prompt_number": 10,
       "text": [
        "[(1072.351136442151, -823.8362500830601, 716.1397507614844),\n",
        " (-1441.4282112971648, 670.617774230447, -190.71021469496117),\n",
        " (313.9545836208834, 129.06802002700513, -405.8605177568675),\n",
        " (-345.805949875852, 396.1378798574224, -1008.1685393351147),\n",
        " (-791.3673884292758, -375.9520392917461, 104.14405090582511),\n",
        " (231.36817448219043, 199.4536573898919, -587.7631430055432),\n",
        " (562.1683354190163, 272.9582372935434, 350.08582276244647),\n",
        " (165.44685408236467, 393.2724362772426, -443.46294813097836),\n",
        " (-451.6708103536196, -203.04210965589306, 153.93836987683136),\n",
        " (219.14893112485015, 153.6134919263243, -818.6040519970525),\n",
        " (285.47524899096885, -22.880781836512156, 678.6299331478364),\n",
        " (357.1467178342697, 562.7724241334812, 165.2968683940444)]"
       ]
      }
     ],
     "prompt_number": 10
    },
    {
     "cell_type": "heading",
     "level": 4,
     "metadata": {},
     "source": [
      "Local energy minimization"
     ]
    },
    {
     "cell_type": "code",
     "collapsed": false,
     "input": [
      "from simtk.openmm import LocalEnergyMinimizer"
     ],
     "language": "python",
     "metadata": {},
     "outputs": [],
     "prompt_number": 17
    },
    {
     "cell_type": "code",
     "collapsed": false,
     "input": [
      "LocalEnergyMinimizer.minimize(simulation.context, 1e-1)"
     ],
     "language": "python",
     "metadata": {},
     "outputs": [],
     "prompt_number": 18
    },
    {
     "cell_type": "heading",
     "level": 4,
     "metadata": {},
     "source": [
      "Energy, forces and positions after minimization"
     ]
    },
    {
     "cell_type": "code",
     "collapsed": false,
     "input": [
      "state = simulation.context.getState(getForces=True, getEnergy=True, getPositions=True)\n",
      "potential_energy = state.getPotentialEnergy()\n",
      "potential_energy.in_units_of(unit.kilocalorie_per_mole)"
     ],
     "language": "python",
     "metadata": {},
     "outputs": [
      {
       "metadata": {},
       "output_type": "pyout",
       "prompt_number": 19,
       "text": [
        "Quantity(value=-125.33267648277747, unit=kilocalorie/mole)"
       ]
      }
     ],
     "prompt_number": 19
    },
    {
     "cell_type": "code",
     "collapsed": false,
     "input": [
      "kilocalorie_per_mole_per_angstrom = unit.kilocalorie_per_mole/unit.angstrom\n",
      "for f in state.getForces():\n",
      "    print(f.in_units_of(kilocalorie_per_mole_per_angstrom))"
     ],
     "language": "python",
     "metadata": {},
     "outputs": [
      {
       "output_type": "stream",
       "stream": "stdout",
       "text": [
        "(0.00029612184499987605, -0.0001276382829680238, -7.588497073174688e-05) kcal/(A mol)\n",
        "(-0.0006066711232409618, 0.00041482779529332153, 0.00029284168195442317) kcal/(A mol)\n",
        "(0.0005401988397150456, 0.0006844449312107604, 0.0002715594458234667) kcal/(A mol)\n",
        "(-35.555351640663375, 59.50384661709677, -35.69139857847326) kcal/(A mol)\n",
        "(-0.0005196879062149462, 7.881823649510822e-05, -0.0001762693611465173) kcal/(A mol)\n",
        "(-0.00013258587698162234, -0.0004048991496414358, -0.00019705154522994556) kcal/(A mol)\n",
        "(-0.00011797576614643462, -0.0007752841098020341, 0.0005987259978678855) kcal/(A mol)\n",
        "(-24.225508598267584, 33.12682949478675, 58.46224443437141) kcal/(A mol)\n",
        "(-0.0005122872309905698, 0.0003934222815791098, -6.956581824633793e-05) kcal/(A mol)\n",
        "(0.000989886294828942, 0.0006468202501747544, 3.091765072980642e-05) kcal/(A mol)\n",
        "(-0.00030155130598996297, -0.0005694219263209035, -0.000529555447740272) kcal/(A mol)\n",
        "(32.60446893332641, -28.691834534100725, -37.652556474157585) kcal/(A mol)\n",
        "(-0.0005773072929318601, -0.00021688228963443013, -6.520947206015218e-05) kcal/(A mol)\n",
        "(8.315372471287164e-05, -0.00015472111634221852, 0.0002651799391316153) kcal/(A mol)\n",
        "(-6.379049098525495e-05, 0.00012264366231299576, 0.00019503136650396395) kcal/(A mol)\n",
        "(33.710254647152844, 5.185527409632133, -27.005893815415547) kcal/(A mol)\n",
        "(-0.00044900431519237955, 0.000304329707400328, -0.00010514654835193214) kcal/(A mol)\n",
        "(-0.0001543650949552137, 0.0001790071721944535, -0.00045011027738431526) kcal/(A mol)\n",
        "(-0.0007934144975490045, 0.00043314431671685386, 0.00012003676456828696) kcal/(A mol)\n",
        "(38.79079584024731, 20.454255046159634, 15.072097175191718) kcal/(A mol)\n",
        "(-0.0001286982193724868, -0.0006675173803852515, 0.0005628388081778345) kcal/(A mol)\n",
        "(0.00033000464061240086, -0.00039331606275272603, -1.896510829985661e-05) kcal/(A mol)\n",
        "(-0.00018648483317002218, 0.00010092614059006212, 0.0002550381296488896) kcal/(A mol)\n",
        "(-27.690539265927946, -6.062437621790124, -23.705225520801932) kcal/(A mol)\n",
        "(-0.00016234103626547254, -0.000245527961418829, 0.00045150258975958655) kcal/(A mol)\n",
        "(7.961114958359942e-05, -0.00026754477442618885, -0.0007327984804255176) kcal/(A mol)\n",
        "(0.0002577446167839126, 0.0011821904378852795, 0.0006046245304185761) kcal/(A mol)\n",
        "(4.93034671665006, -51.34641290599498, -3.6529188101311787) kcal/(A mol)\n",
        "(1.573302014047706e-05, -0.00020785072904015315, -0.0003782979879706562) kcal/(A mol)\n",
        "(-0.00019777823454126303, 0.00030909817164474003, 0.00027241906532358664) kcal/(A mol)\n",
        "(-0.00017908878599850493, -0.0004446079906513416, -0.00011361454723818024) kcal/(A mol)\n",
        "(-29.036612533795104, 25.95813707642048, 25.256533589768107) kcal/(A mol)\n",
        "(0.00042839832815443285, 0.00019108014409356216, -0.00011603227122698524) kcal/(A mol)\n",
        "(-0.0009123787933950912, -0.0002579789412986651, 0.00015213953366295622) kcal/(A mol)\n",
        "(0.00026877521839741735, 0.000614102464517063, -0.00047355193193780536) kcal/(A mol)\n",
        "(30.95900112314338, -20.217378534813285, 12.68474277223199) kcal/(A mol)\n",
        "(-0.0005420678144251588, -0.00033989880160781354, -9.775126966566909e-05) kcal/(A mol)\n",
        "(-0.0006278355813283012, 7.859439794775073e-05, -0.0008953689574874138) kcal/(A mol)\n",
        "(3.841710528603946e-05, 0.00010157332418524101, -0.00024607008679804643) kcal/(A mol)\n",
        "(-36.91352581225864, -22.385930443208807, -28.85943671466232) kcal/(A mol)\n",
        "(4.909607107672652e-05, -0.00018003351374709572, 0.00023922664171383915) kcal/(A mol)\n",
        "(0.0002732630854927443, -0.001640904876445954, -4.5977975835956864e-05) kcal/(A mol)\n",
        "(0.0007633035172479743, 0.0010273560369076814, -0.0004743493214465508) kcal/(A mol)\n",
        "(-9.834369071491595, 24.79432560805018, -34.934555076440674) kcal/(A mol)\n",
        "(0.0007132856138798463, -0.00023930818327756764, 0.00023357506600469807) kcal/(A mol)\n",
        "(0.00046012799631624663, 3.359300444903496e-05, -0.00021864668250570952) kcal/(A mol)\n",
        "(2.5275824524949782e-05, 0.00019026789402062474, 0.0009062645607798349) kcal/(A mol)\n",
        "(14.99869222785024, -31.607986749528003, 22.753477598693554) kcal/(A mol)\n",
        "(-0.00030799334692983003, -0.0004587849986137371, -0.00047319323169277283) kcal/(A mol)\n",
        "(5.666070186669188e-05, -0.00013660770033525896, -0.00019379354707875938) kcal/(A mol)\n",
        "(0.00035609199414866677, -0.00026191878355675456, 0.0009292305520827062) kcal/(A mol)\n",
        "(11.164958424853038, -38.597694311281266, 18.00761344164186) kcal/(A mol)\n",
        "(0.0002586987979597095, 0.0009259170982386248, 0.0003530783336402696) kcal/(A mol)\n",
        "(0.0003581665469156733, -6.808656653868162e-05, -0.0004627695859073767) kcal/(A mol)\n",
        "(0.0008312926140726903, 4.657667095145012e-05, -0.00012425623155255458) kcal/(A mol)\n",
        "(-35.08017697136835, 29.565577400244905, -15.329743617099835) kcal/(A mol)\n"
       ]
      }
     ],
     "prompt_number": 20
    },
    {
     "cell_type": "code",
     "collapsed": false,
     "input": [
      "state.getPositions()"
     ],
     "language": "python",
     "metadata": {},
     "outputs": [
      {
       "metadata": {},
       "output_type": "pyout",
       "prompt_number": 21,
       "text": [
        "Quantity(value=[(0.003560411538791464, -0.0003382258050843299, -0.005766652216817242), (-0.009917813375329295, -0.09518462361639908, -0.022004942227067264), (0.03205102826239977, 0.007771279116298518, 0.08692282891829316), (0.00676335698898585, -0.018843840364799736, 0.01054447247822038), (-0.24890932435322186, 0.08749172040129859, 0.007675088727051557), (-0.15610996556353152, 0.056143001306187455, 0.0029521876978927677), (-0.2752483602359659, 0.07794280554129548, -0.08564747563060827), (-0.23472978577105377, 0.07876606946821653, -0.013243248687672592), (0.044545320842960257, 0.026547174463420056, 0.26478674114362216), (0.030481233289616796, 0.12211929021916271, 0.27635392109179685), (-0.041106568008704436, -0.014727833363660223, 0.28148227640035567), (0.023270574154276955, 0.03813164927634856, 0.27081668868459235), (0.051249112372636026, 0.20633694238362976, -0.17628490339801928), (0.02566658114793184, 0.1283081190931048, -0.12419405939243018), (0.01086269331019525, 0.2791842918347074, -0.12788610388967658), (0.037174409829715704, 0.2052314571105322, -0.15484509216945863), (-0.13836479590059775, 0.3374058833655197, 0.02016963385576341), (-0.1972342558108169, 0.4104054062869363, 0.0009474997648938342), (-0.19343760381207648, 0.25652564781686893, 0.015836226006853187), (-0.1626747708157006, 0.33572450620896716, 0.015143977928291577), (0.18370780562100777, -0.18241898377775012, -0.21668970172162363), (0.2008675433100884, -0.23929178521648545, -0.14071715209874094), (0.22293826609510684, -0.09750185560139285, -0.1929713654904698), (0.19573884843779407, -0.17643563016775018, -0.19542030818832673), (0.28611312144013984, -0.07199763851935273, 0.1344153151257371), (0.22052161153558292, -0.03441464888699876, 0.1943629225738926), (0.28875920601121763, -0.012899784737546466, 0.057755878307976474), (0.2726834983500335, -0.05137044789815946, 0.130849788824327), (-0.21930758728616118, 0.05931199922950993, -0.2668733280621772), (-0.14648410834664544, 0.11913522299826179, -0.2856981200225727), (-0.17980769920148168, -0.02938007022237302, -0.27530279890311293), (-0.1953430104268432, 0.05315273166531592, -0.2726881188127595), (-0.21883390189002913, -0.10087357118505721, 0.2148318813381277), (-0.255841414292043, -0.040564883064328275, 0.14802882683266164), (-0.2922457598930669, -0.1248716322282096, 0.27139005603262273), (-0.24239225451900048, -0.09312657395318848, 0.2126461009778256), (0.2025366613894322, -0.31244457476190074, 0.04594374470808561), (0.23957103865262855, -0.2304281451111624, 0.08509808734575212), (0.25983525160105164, -0.38387297513768254, 0.0735795206996376), (0.22266292459992523, -0.31018558228268006, 0.060193646342427576), (-0.07238058137976466, -0.26699047967274747, 0.018817518625549225), (0.012610078168482836, -0.3037399979491179, 0.04697247535332153), (-0.12120120329579429, -0.2426605606705672, 0.09828536725585695), (-0.06466357938983149, -0.2696402439137371, 0.04177921447876884), (0.01096995472579537, 0.300257415454047, 0.25453123036489905), (-0.006937264225554583, 0.3653205840421358, 0.32231084645257635), (-0.04154120752216275, 0.3263239748219668, 0.17721329202800984), (-0.004054049212726713, 0.3197002564908554, 0.2524961964916629), (0.29214178220878156, 0.07444034733747983, -0.11894106041828818), (0.22311578992308412, 0.13927446473237273, -0.14123838178214748), (0.3734166785459871, 0.10905246658759625, -0.15581799447313172), (0.29475512803664966, 0.09565754412019287, -0.1315660914304813), (-0.09647527054469407, -0.1923970760588945, -0.26285901249760374), (0.0004845512207284013, -0.1883468743428491, -0.2634296551326173), (-0.11542103627579053, -0.23935181710225986, -0.1809406592939449), (-0.0798307032434038, -0.20155090715889806, -0.24550319853031122)], unit=nanometer)"
       ]
      }
     ],
     "prompt_number": 21
    },
    {
     "cell_type": "heading",
     "level": 4,
     "metadata": {},
     "source": [
      "Run a constant energy simulation (Verlet integrator)"
     ]
    },
    {
     "cell_type": "code",
     "collapsed": false,
     "input": [
      "simulation.context.setVelocitiesToTemperature(300*unit.kelvin)\n",
      "# Equilibrate\n",
      "simulation.step(10)"
     ],
     "language": "python",
     "metadata": {},
     "outputs": [],
     "prompt_number": 22
    },
    {
     "cell_type": "markdown",
     "metadata": {},
     "source": [
      "Add a `reporter` that prints out the simulation status every 10 steps"
     ]
    },
    {
     "cell_type": "code",
     "collapsed": false,
     "input": [
      "simulation.reporters.append(app.StateDataReporter(sys.stdout, 10, step=True, \n",
      "    potentialEnergy=True, temperature=True, progress=True, remainingTime=True, \n",
      "    speed=True, totalSteps=110, separator='\\t'))"
     ],
     "language": "python",
     "metadata": {},
     "outputs": [],
     "prompt_number": 23
    },
    {
     "cell_type": "markdown",
     "metadata": {},
     "source": [
      "Add a `PDBReporter` that writes molecules positions every 20 steps in a pdb file."
     ]
    },
    {
     "cell_type": "code",
     "collapsed": false,
     "input": [
      "simulation.reporters.append(app.PDBReporter('trajectory.pdb', 20))"
     ],
     "language": "python",
     "metadata": {},
     "outputs": [],
     "prompt_number": 24
    },
    {
     "cell_type": "markdown",
     "metadata": {},
     "source": [
      "Run 100 steps"
     ]
    },
    {
     "cell_type": "code",
     "collapsed": false,
     "input": [
      "simulation.step(100)"
     ],
     "language": "python",
     "metadata": {},
     "outputs": [
      {
       "output_type": "stream",
       "stream": "stdout",
       "text": [
        "#\"Progress (%)\"\t\"Step\"\t\"Potential Energy (kJ/mole)\"\t\"Temperature (K)\"\t\"Speed (ns/day)\"\t\"Time Remaining\"\n"
       ]
      },
      {
       "output_type": "stream",
       "stream": "stdout",
       "text": [
        "18.2%\t20\t-524.391917586\t254.448610704\t0\t--\n"
       ]
      },
      {
       "output_type": "stream",
       "stream": "stdout",
       "text": [
        "27.3%\t30\t-524.391916573\t254.448608897\t3.62e-06\t0:19\n"
       ]
      },
      {
       "output_type": "stream",
       "stream": "stdout",
       "text": [
        "36.4%\t40\t-524.391915158\t254.44860624\t3.65e-06\t0:16\n"
       ]
      },
      {
       "output_type": "stream",
       "stream": "stdout",
       "text": [
        "45.5%\t50\t-524.391913341\t254.448602955\t3.64e-06\t0:14\n"
       ]
      },
      {
       "output_type": "stream",
       "stream": "stdout",
       "text": [
        "54.5%\t60\t-524.391911122\t254.448598882\t3.59e-06\t0:12\n"
       ]
      },
      {
       "output_type": "stream",
       "stream": "stdout",
       "text": [
        "63.6%\t70\t-524.3919085\t254.448593862\t3.56e-06\t0:09\n"
       ]
      },
      {
       "output_type": "stream",
       "stream": "stdout",
       "text": [
        "72.7%\t80\t-524.391905476\t254.448588191\t3.4e-06\t0:07\n"
       ]
      },
      {
       "output_type": "stream",
       "stream": "stdout",
       "text": [
        "81.8%\t90\t-524.39190205\t254.448581538\t3.31e-06\t0:05\n"
       ]
      },
      {
       "output_type": "stream",
       "stream": "stdout",
       "text": [
        "90.9%\t100\t-524.391898221\t254.448574115\t3.35e-06\t0:02\n"
       ]
      },
      {
       "output_type": "stream",
       "stream": "stdout",
       "text": [
        "100.0%\t110\t-524.39189399\t254.448566194\t3.39e-06\t0:00\n"
       ]
      }
     ],
     "prompt_number": 25
    },
    {
     "cell_type": "code",
     "collapsed": false,
     "input": [
      "!head trajectory.pdb"
     ],
     "language": "python",
     "metadata": {},
     "outputs": [
      {
       "output_type": "stream",
       "stream": "stdout",
       "text": [
        "REMARK   1 CREATED WITH OPENMM 6.1, 2014-08-12\r\n",
        "MODEL        1\r\n",
        "ATOM      1  O   HOH A   1       0.036  -0.003  -0.058  1.00  0.00           O  \r\n",
        "ATOM      2  H1  HOH A   1      -0.099  -0.952  -0.220  1.00  0.00           H  \r\n",
        "ATOM      3  H2  HOH A   1       0.321   0.078   0.869  1.00  0.00           H  \r\n",
        "ATOM      4  M   HOH A   1       0.068  -0.188   0.105  1.00  0.00              \r\n",
        "ATOM      5  O   HOH A   2      -2.489   0.875   0.077  1.00  0.00           O  \r\n",
        "ATOM      6  H1  HOH A   2      -1.561   0.561   0.030  1.00  0.00           H  \r\n",
        "ATOM      7  H2  HOH A   2      -2.752   0.779  -0.856  1.00  0.00           H  \r\n",
        "ATOM      8  M   HOH A   2      -2.347   0.788  -0.132  1.00  0.00              \r\n"
       ]
      }
     ],
     "prompt_number": 26
    },
    {
     "cell_type": "code",
     "collapsed": false,
     "input": [
      "!echo Number of lines: `wc -l trajectory.pdb`"
     ],
     "language": "python",
     "metadata": {},
     "outputs": [
      {
       "output_type": "stream",
       "stream": "stdout",
       "text": [
        "Number of lines: 263 trajectory.pdb\r\n"
       ]
      }
     ],
     "prompt_number": 27
    },
    {
     "cell_type": "code",
     "collapsed": false,
     "input": [],
     "language": "python",
     "metadata": {},
     "outputs": [],
     "prompt_number": 27
    },
    {
     "cell_type": "markdown",
     "metadata": {},
     "source": []
    }
   ],
   "metadata": {}
  }
 ]
}