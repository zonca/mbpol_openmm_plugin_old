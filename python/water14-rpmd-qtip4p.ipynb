{
 "metadata": {
  "name": "",
  "signature": "sha256:887adc9d12e30b4e23b9f97ee6db75a6223f7ae13fef0d67dbe4f15de1f0758b"
 },
 "nbformat": 3,
 "nbformat_minor": 0,
 "worksheets": [
  {
   "cells": [
    {
     "cell_type": "code",
     "collapsed": false,
     "input": [
      "from __future__ import print_function\n",
      "# import sys\n",
      "# beads = int(sys.argv[1])"
     ],
     "language": "python",
     "metadata": {},
     "outputs": [],
     "prompt_number": 1
    },
    {
     "cell_type": "code",
     "collapsed": false,
     "input": [
      "from simtk.openmm import app\n",
      "import simtk.openmm as mm\n",
      "from simtk import unit\n",
      "import sys\n",
      "import mbpol"
     ],
     "language": "python",
     "metadata": {},
     "outputs": [],
     "prompt_number": 2
    },
    {
     "cell_type": "heading",
     "level": 4,
     "metadata": {},
     "source": [
      "Input system in pdb format"
     ]
    },
    {
     "cell_type": "code",
     "collapsed": false,
     "input": [
      "pdb = app.PDBFile(\"water14_cluster.pdb\")"
     ],
     "language": "python",
     "metadata": {},
     "outputs": [],
     "prompt_number": 3
    },
    {
     "cell_type": "heading",
     "level": 4,
     "metadata": {},
     "source": [
      "Define the type of potential, first file defines all elements, only the water model is in the second xml file"
     ]
    },
    {
     "cell_type": "code",
     "collapsed": false,
     "input": [
      "#forcefield = app.ForceField(\"mbpol.xml\")\n",
      "# use tip4p\n",
      "forcefield = app.ForceField(\"qtip4pf.xml\")"
     ],
     "language": "python",
     "metadata": {},
     "outputs": [],
     "prompt_number": 4
    },
    {
     "cell_type": "heading",
     "level": 4,
     "metadata": {},
     "source": [
      "Create the System, define an integrator, define the Simulation"
     ]
    },
    {
     "cell_type": "code",
     "collapsed": false,
     "input": [
      "system = forcefield.createSystem(pdb.topology, \n",
      "                                 nonbondedMethod=app.CutoffNonPeriodic,\n",
      "                                 nonBondedCutoff=1e3*unit.nanometer,\n",
      "                                 rigidWater=False)\n",
      "integrator = mm.RPMDIntegrator(32, 50*unit.kelvin, \n",
      "                               1.0/unit.picosecond,\n",
      "                               0.001*unit.picoseconds)"
     ],
     "language": "python",
     "metadata": {},
     "outputs": [],
     "prompt_number": 5
    },
    {
     "cell_type": "code",
     "collapsed": false,
     "input": [
      "platform = mm.Platform.getPlatformByName('Reference')\n",
      "simulation = app.Simulation(pdb.topology, system, integrator, platform)\n",
      "simulation.context.setPositions(pdb.positions)\n",
      "simulation.context.computeVirtualSites()"
     ],
     "language": "python",
     "metadata": {},
     "outputs": [],
     "prompt_number": 6
    },
    {
     "cell_type": "heading",
     "level": 4,
     "metadata": {},
     "source": [
      "Compute initial energy and forces with getState"
     ]
    },
    {
     "cell_type": "code",
     "collapsed": false,
     "input": [
      "state = simulation.context.getState(getForces=True, getEnergy=True)\n",
      "potential_energy = state.getPotentialEnergy()\n",
      "potential_energy.in_units_of(unit.kilocalorie_per_mole)"
     ],
     "language": "python",
     "metadata": {},
     "outputs": [
      {
       "metadata": {},
       "output_type": "pyout",
       "prompt_number": 7,
       "text": [
        "Quantity(value=-65.15757837542509, unit=kilocalorie/mole)"
       ]
      }
     ],
     "prompt_number": 7
    },
    {
     "cell_type": "code",
     "collapsed": false,
     "input": [
      "kilocalorie_per_mole_per_angstrom = unit.kilocalorie_per_mole/unit.angstrom\n",
      "#for f in state.getForces():\n",
      "#    print(f.in_units_of(kilocalorie_per_mole_per_angstrom))"
     ],
     "language": "python",
     "metadata": {},
     "outputs": [],
     "prompt_number": 8
    },
    {
     "cell_type": "heading",
     "level": 4,
     "metadata": {},
     "source": [
      "Local energy minimization"
     ]
    },
    {
     "cell_type": "code",
     "collapsed": false,
     "input": [
      "from simtk.openmm import LocalEnergyMinimizer"
     ],
     "language": "python",
     "metadata": {},
     "outputs": [],
     "prompt_number": 9
    },
    {
     "cell_type": "code",
     "collapsed": false,
     "input": [
      "#LocalEnergyMinimizer.minimize(simulation.context, 1e-1)"
     ],
     "language": "python",
     "metadata": {},
     "outputs": [],
     "prompt_number": 10
    },
    {
     "cell_type": "heading",
     "level": 4,
     "metadata": {},
     "source": [
      "Energy, forces and positions after minimization"
     ]
    },
    {
     "cell_type": "code",
     "collapsed": false,
     "input": [
      "state = simulation.context.getState(getForces=True, getEnergy=True, getPositions=True)\n",
      "potential_energy = state.getPotentialEnergy()\n",
      "potential_energy.in_units_of(unit.kilocalorie_per_mole)"
     ],
     "language": "python",
     "metadata": {},
     "outputs": [
      {
       "metadata": {},
       "output_type": "pyout",
       "prompt_number": 11,
       "text": [
        "Quantity(value=-65.15757837542509, unit=kilocalorie/mole)"
       ]
      }
     ],
     "prompt_number": 11
    },
    {
     "cell_type": "code",
     "collapsed": false,
     "input": [
      "kilocalorie_per_mole_per_angstrom = unit.kilocalorie_per_mole/unit.angstrom\n",
      "#for f in state.getForces():\n",
      "#    print(f.in_units_of(kilocalorie_per_mole_per_angstrom))"
     ],
     "language": "python",
     "metadata": {},
     "outputs": [],
     "prompt_number": 12
    },
    {
     "cell_type": "code",
     "collapsed": false,
     "input": [
      "#state.getPositions()"
     ],
     "language": "python",
     "metadata": {},
     "outputs": [],
     "prompt_number": 13
    },
    {
     "cell_type": "heading",
     "level": 4,
     "metadata": {},
     "source": [
      "Run a constant energy simulation (Verlet integrator)"
     ]
    },
    {
     "cell_type": "code",
     "collapsed": false,
     "input": [
      "#simulation.context.setVelocitiesToTemperature(50*unit.kelvin)\n",
      "# Equilibrate\n",
      "#simulation.step(10)"
     ],
     "language": "python",
     "metadata": {},
     "outputs": [],
     "prompt_number": 14
    },
    {
     "cell_type": "code",
     "collapsed": false,
     "input": [
      "!rm qtip4p_sim.dat"
     ],
     "language": "python",
     "metadata": {},
     "outputs": [],
     "prompt_number": 15
    },
    {
     "cell_type": "markdown",
     "metadata": {},
     "source": [
      "Add a `reporter` that prints out the simulation status every 10 steps"
     ]
    },
    {
     "cell_type": "code",
     "collapsed": false,
     "input": [
      "simulation.reporters.append(app.StateDataReporter(\"qtip4p_sim.dat\", 1, step=True, \n",
      "    potentialEnergy=True, kineticEnergy=True, temperature=True, progress=True, remainingTime=True, \n",
      "    speed=True, density=True, volume=True, totalSteps=10000, separator='\\t'))"
     ],
     "language": "python",
     "metadata": {},
     "outputs": [],
     "prompt_number": 16
    },
    {
     "cell_type": "markdown",
     "metadata": {},
     "source": [
      "Add a `PDBReporter` that writes molecules positions every 20 steps in a pdb file."
     ]
    },
    {
     "cell_type": "code",
     "collapsed": false,
     "input": [
      "simulation.reporters.append(app.PDBReporter('trajectory.pdb', 10))"
     ],
     "language": "python",
     "metadata": {},
     "outputs": [],
     "prompt_number": 17
    },
    {
     "cell_type": "markdown",
     "metadata": {},
     "source": [
      "Run 100 steps"
     ]
    },
    {
     "cell_type": "code",
     "collapsed": false,
     "input": [
      "simulation.step(10000)"
     ],
     "language": "python",
     "metadata": {},
     "outputs": [],
     "prompt_number": 18
    }
   ],
   "metadata": {}
  }
 ]
}